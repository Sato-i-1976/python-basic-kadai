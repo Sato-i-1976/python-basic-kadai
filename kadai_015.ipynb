{
  "nbformat": 4,
  "nbformat_minor": 0,
  "metadata": {
    "colab": {
      "provenance": []
    },
    "kernelspec": {
      "name": "python3",
      "display_name": "Python 3"
    },
    "language_info": {
      "name": "python"
    }
  },
  "cells": [
    {
      "cell_type": "code",
      "source": [
        "class Human :\n",
        "    def __init__(self, name, age):\n",
        "        self.name = name\n",
        "        self.age = age\n",
        "\n",
        "    def printinfo(self):\n",
        "        print(self.name, self.age)\n",
        "\n",
        "human = Human(\"太郎\",47)\n",
        "\n",
        "human.printinfo()"
      ],
      "metadata": {
        "id": "oxYaeiI0dOvZ",
        "colab": {
          "base_uri": "https://localhost:8080/"
        },
        "outputId": "c094f43b-fb94-4204-fabb-15756e4ec1f4"
      },
      "execution_count": 9,
      "outputs": [
        {
          "output_type": "stream",
          "name": "stdout",
          "text": [
            "太郎 47\n"
          ]
        }
      ]
    },
    {
      "cell_type": "markdown",
      "source": [],
      "metadata": {
        "id": "ZXt2F6b2dQLH"
      }
    },
    {
      "cell_type": "markdown",
      "source": [
        "# 新しいセクション"
      ],
      "metadata": {
        "id": "k1AJ3zMVcvYg"
      }
    }
  ]
}