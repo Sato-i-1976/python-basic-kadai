{
  "cells": [
    {
      "cell_type": "code",
      "source": [
        "list =［\"月曜日は晴れです\", \"火曜日は雨です\", \"水曜日は晴れです\", \"木曜日は晴れです\", \"木曜日は晴れです\", \"金曜日は曇りです\", \"土曜日は曇りのち雨です\", \"日曜日は雷雨です\"］"
      ],
      "metadata": {
        "id": "bgNgE-O8jlWh"
      },
      "execution_count": null,
      "outputs": []
    },
    {
      "cell_type": "code",
      "source": [
        "dictionary = {mon: \"晴れ\", tue: \"雨\", wed: \"晴れ\", thu: \"晴れ\", fri: \"曇り\", sat: \"曇りのち雨\", sun: \"雷雨\"}"
      ],
      "metadata": {
        "id": "ZsByxwT-oQG2"
      },
      "execution_count": null,
      "outputs": []
    }
  ],
  "metadata": {
    "colab": {
      "name": "Colaboratory へようこそ",
      "provenance": []
    },
    "kernelspec": {
      "display_name": "Python 3",
      "name": "python3"
    }
  },
  "nbformat": 4,
  "nbformat_minor": 0
}